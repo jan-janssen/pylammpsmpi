{
 "cells": [
  {
   "cell_type": "code",
   "execution_count": 1,
   "metadata": {},
   "outputs": [],
   "source": [
    "from pylammpsmpi.lammps import LammpsLibrary"
   ]
  },
  {
   "cell_type": "code",
   "execution_count": 2,
   "metadata": {},
   "outputs": [],
   "source": [
    "lmp = LammpsLibrary(cores=2)"
   ]
  },
  {
   "cell_type": "markdown",
   "metadata": {},
   "source": [
    "Set up system"
   ]
  },
  {
   "cell_type": "code",
   "execution_count": 3,
   "metadata": {},
   "outputs": [],
   "source": [
    "lmp.command(\"echo log\")\n",
    "lmp.command(\"units metal\")\n",
    "lmp.command(\"atom_style atomic\")\n",
    "lmp.command(\"boundary p p p\")\n",
    "lmp.command(\"lattice fcc 4 orient x 1 0 0 orient y 0 1 0 orient z 0 0 1\")\n",
    "lmp.command(\"region box block 0 2 0 2 0 2\")\n",
    "lmp.command(\"create_box 1 box\")\n",
    "lmp.command(\"create_atoms 1 box\")"
   ]
  },
  {
   "cell_type": "code",
   "execution_count": 4,
   "metadata": {},
   "outputs": [
    {
     "data": {
      "text/plain": [
       "[[0.0, 0.0, 0.0],\n",
       " [2.0, 2.0, 0.0],\n",
       " [2.0, 0.0, 2.0],\n",
       " [0.0, 2.0, 2.0],\n",
       " [4.0, 0.0, 0.0],\n",
       " [6.0, 2.0, 0.0],\n",
       " [6.0, 0.0, 2.0],\n",
       " [4.0, 2.0, 2.0],\n",
       " [0.0, 4.0, 0.0],\n",
       " [2.0, 6.0, 0.0],\n",
       " [2.0, 4.0, 2.0],\n",
       " [0.0, 6.0, 2.0],\n",
       " [4.0, 4.0, 0.0],\n",
       " [6.0, 6.0, 0.0],\n",
       " [6.0, 4.0, 2.0],\n",
       " [4.0, 6.0, 2.0],\n",
       " [0.0, 0.0, 0.0],\n",
       " [0.0, 0.0, 0.0],\n",
       " [0.0, 0.0, 0.0],\n",
       " [0.0, 0.0, 0.0],\n",
       " [0.0, 0.0, 0.0],\n",
       " [0.0, 0.0, 0.0],\n",
       " [0.0, 0.0, 0.0],\n",
       " [0.0, 0.0, 0.0],\n",
       " [0.0, 0.0, 0.0],\n",
       " [0.0, 0.0, 0.0],\n",
       " [0.0, 0.0, 0.0],\n",
       " [0.0, 0.0, 0.0],\n",
       " [0.0, 0.0, 0.0],\n",
       " [0.0, 0.0, 0.0],\n",
       " [0.0, 0.0, 0.0],\n",
       " [0.0, 0.0, 0.0]]"
      ]
     },
     "execution_count": 4,
     "metadata": {},
     "output_type": "execute_result"
    }
   ],
   "source": [
    "lmp.extract_atom(\"x\")"
   ]
  },
  {
   "cell_type": "code",
   "execution_count": null,
   "metadata": {},
   "outputs": [],
   "source": [
    "# extract force on single atom two different ways\n",
    "\n",
    "f = lmp.extract_atom(\"f\",3)\n",
    "print(\"Force on 1 atom via extract_atom: \",f[0][0])\n",
    "\n",
    "fx = lmp.extract_variable(\"fx\",\"all\",1)\n",
    "print(\"Force on 1 atom via extract_variable:\",fx[0])"
   ]
  },
  {
   "cell_type": "code",
   "execution_count": null,
   "metadata": {},
   "outputs": [],
   "source": [
    "# use commands_string() and commands_list() to invoke more commands\n",
    "\n",
    "strtwo = \"run 10\\nrun 20\"\n",
    "lmp.commands_string(strtwo)\n",
    "\n",
    "cmds = [\"run 10\",\"run 20\"]\n",
    "lmp.commands_list(cmds)"
   ]
  },
  {
   "cell_type": "code",
   "execution_count": null,
   "metadata": {},
   "outputs": [],
   "source": [
    "# delete all atoms\n",
    "# create_atoms() to create new ones with old coords, vels\n",
    "# initial thermo should be same as step 20\n",
    "\n",
    "natoms = lmp.get_natoms()\n",
    "atype = natoms*[1]\n",
    "\n",
    "lmp.command(\"delete_atoms group all\");\n",
    "lmp.create_atoms(natoms,None,atype,x,v);\n",
    "lmp.command(\"run 10\");"
   ]
  },
  {
   "cell_type": "code",
   "execution_count": null,
   "metadata": {},
   "outputs": [],
   "source": [
    "############\n",
    "# test of new gather/scatter and box extract/reset methods\n",
    "# can try this in parallel and with/without atom_modify sort enabled\n",
    "\n",
    "lmp.command(\"write_dump all custom tmp.simple id type x y z fx fy fz\");\n",
    "\n",
    "x = lmp.gather_atoms(\"x\",1,3)\n",
    "f = lmp.gather_atoms(\"f\",1,3)\n",
    "\n",
    "if me == 0: print(\"Gather XF:\",x[3],x[9],f[3],f[9])\n",
    "\n",
    "ids = lmp.gather_atoms_concat(\"id\",0,1)\n",
    "x = lmp.gather_atoms_concat(\"x\",1,3)\n",
    "f = lmp.gather_atoms_concat(\"f\",1,3)\n",
    "\n",
    "if me == 0: print(\"Gather concat XF:\",ids[0],ids[1],x[0],x[3],f[0],f[3])\n",
    "\n",
    "ids = (2*ctypes.c_int)()\n",
    "ids[0] = 2\n",
    "ids[1] = 4\n",
    "x = lmp.gather_atoms_subset(\"x\",1,3,2,ids)\n",
    "f = lmp.gather_atoms_subset(\"f\",1,3,2,ids)\n",
    "\n",
    "if me == 0: print(\"Gather subset XF:\",x[0],x[3],f[0],f[3])\n",
    "\n",
    "x[0] = -1.0\n",
    "x[1] = 0.0\n",
    "x[2] = 0.0\n",
    "x[3] = -2.0\n",
    "x[4] = 0.0\n",
    "x[5] = 0.0\n",
    "ids[0] = 100\n",
    "ids[1] = 200\n",
    "lmp.scatter_atoms_subset(\"x\",1,3,2,ids,x)\n",
    "\n",
    "x = lmp.gather_atoms(\"x\",1,3)\n",
    "if me == 0: print(\"Gather post scatter subset:\",\n",
    "                  x[3],x[9],x[297],x[298],x[299],x[597],x[598],x[599])\n",
    "\n",
    "boxlo,boxhi,xy,yz,xz,periodicity,box_change = lmp.extract_box()\n",
    "if me == 0: print(\"Box info\",boxlo,boxhi,xy,yz,xz,periodicity,box_change)\n",
    "\n",
    "lmp.reset_box([0,0,0],[10,10,8],0,0,0)\n",
    "\n",
    "boxlo,boxhi,xy,yz,xz,periodicity,box_change = lmp.extract_box()\n",
    "if me == 0: print(\"Box info\",boxlo,boxhi,xy,yz,xz,periodicity,box_change)"
   ]
  }
 ],
 "metadata": {
  "kernelspec": {
   "display_name": "base",
   "language": "python",
   "name": "base"
  },
  "language_info": {
   "codemirror_mode": {
    "name": "ipython",
    "version": 3
   },
   "file_extension": ".py",
   "mimetype": "text/x-python",
   "name": "python",
   "nbconvert_exporter": "python",
   "pygments_lexer": "ipython3",
   "version": "3.7.4"
  }
 },
 "nbformat": 4,
 "nbformat_minor": 4
}
